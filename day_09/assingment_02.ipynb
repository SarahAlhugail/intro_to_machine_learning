{
  "nbformat": 4,
  "nbformat_minor": 0,
  "metadata": {
    "colab": {
      "name": "SDA-ML-Week2-Day4.ipynb",
      "provenance": []
    },
    "kernelspec": {
      "name": "python3",
      "display_name": "Python 3"
    }
  },
  "cells": [
    {
      "cell_type": "code",
      "metadata": {
        "id": "5PFscYAPmanE"
      },
      "source": [
        "import pandas as pd\n",
        "\n",
        "# Import what you feel is neccessary from scikit-learn"
      ],
      "execution_count": null,
      "outputs": []
    },
    {
      "cell_type": "markdown",
      "metadata": {
        "id": "c1X6_K4km-ic"
      },
      "source": [
        "\n",
        "<center><H1>Adult Dataset Classification</H1></center>\n",
        "\n",
        "\n",
        "<p align=\"center\">\n",
        "  <img width=\"700\" height=\"350\" src=\"https://media.giphy.com/media/HoffxyN8ghVuw/giphy.gif\">\n",
        "</p>\n",
        "\n",
        "### Target = \"<=50k\"\n",
        "\n",
        "### [Data Dictionary/Details](https://archive.ics.uci.edu/ml/datasets/Adult)\n",
        "\n",
        "- age: continuous.\n",
        "- workclass: Private, Self-emp-not-inc, Self-emp-inc, Federal-gov, Local-gov, State-gov, Without-pay, Never-worked.\n",
        "- fnlwgt: continuous.\n",
        "- education: Bachelors, Some-college, 11th, HS-grad, Prof-school, Assoc-acdm, Assoc-voc, 9th, 7th-8th, 12th, Masters, 1st-4th, 10th, Doctorate, 5th-6th, Preschool.\n",
        "- education-num: continuous.\n",
        "- marital-status: Married-civ-spouse, Divorced, Never-married, Separated, Widowed, Married-spouse-absent, Married-AF-spouse.\n",
        "- occupation: Tech-support, Craft-repair, Other-service, Sales, Exec-managerial, Prof-specialty, Handlers-cleaners, Machine-op-inspct, Adm-clerical, Farming-fishing, Transport-moving, Priv-house-serv, Protective-serv, Armed-Forces.\n",
        "- relationship: Wife, Own-child, Husband, Not-in-family, Other-relative, Unmarried.\n",
        "- sex: Female, Male.\n",
        "- capital-gain: continuous.\n",
        "- capital-loss: continuous.\n",
        "- hours-per-week: continuous.\n",
        "- native-country: United-States, Cambodia, England, Puerto-Rico, Canada, Germany, Outlying-US(Guam-USVI-etc), India, Japan, Greece, South, China, Cuba, Iran, Honduras, Philippines, Italy, Poland, Jamaica, Vietnam, Mexico, Portugal, Ireland, France, Dominican-Republic, Laos, Ecuador, Taiwan, Haiti, Columbia, Hungary, Guatemala, Nicaragua, Scotland, Thailand, Yugoslavia, El-Salvador, Trinadad&Tobago, Peru, Hong, Holand-Netherlands.\n",
        "- \"<=50k\" = >50K, <=50K (TARGET)\n",
        "\n",
        "<center><H3>-----RULES-----</H3></center>\n",
        "\n",
        "<p align=\"center\">\n",
        "  <img width=\"700\" height=\"350\" src=\"https://media.giphy.com/media/iB4PoTVka0Xnul7UaC/giphy.gif\">\n",
        "</p>\n",
        "\n",
        "### Your data has already been split into training and testing sets, do not use `train_test_split`\n",
        "### Only use your training set for EDA, Cleaning, Modeling, etc.\n",
        "- **You will have to perform the same transformations on your test set that you apply to your training set. The column names are exactly the same as your training set.**\n",
        "\n",
        "### **DO NOT** look into your test set until you are ready to test the accuracy of your model. Your test set is supposed to represent unseen data and lets treat it that way until we are ready to test our accuracy. Your transformations on your training set should work on your test set since it has the exact same column names and the values are exactly the same.\n",
        "\n"
      ]
    },
    {
      "cell_type": "code",
      "metadata": {
        "id": "QZlO5AoxmgmN"
      },
      "source": [
        "# Starter Code --DO NOT ADJUST--\n",
        "col_names = [\"age\", \"workclass\", \"fnlwgt\", \"education\", \"education_num\", \"marital_status\", \"ooccupation\", \"relationship\", \"race\", \"sex\", \"capital_gain\", \"capital_loss\", \"hours_per_week\", \"native_country\", \"target\"]\n",
        "training = pd.read_csv(\"https://archive.ics.uci.edu/ml/machine-learning-databases/adult/adult.data\", names=col_names).drop(\"race\", axis=1)\n",
        "test = pd.read_csv(\"https://archive.ics.uci.edu/ml/machine-learning-databases/adult/adult.test\", names=col_names, skiprows=1).drop(\"race\", axis=1)\n",
        "\n",
        "# Create Train\n",
        "X_train = training.drop(\"target\", axis=1)\n",
        "y_train = training[\"target\"]\n",
        "\n",
        "# Create Test\n",
        "X_test = test.drop(\"target\", axis=1)\n",
        "y_test = test[\"target\"]"
      ],
      "execution_count": null,
      "outputs": []
    },
    {
      "cell_type": "markdown",
      "metadata": {
        "id": "qrUeW9PhrNIM"
      },
      "source": [
        "### **Determine your baseline model accuracy**"
      ]
    },
    {
      "cell_type": "code",
      "metadata": {
        "id": "Fqs-ZqrRpFoQ"
      },
      "source": [
        ""
      ],
      "execution_count": null,
      "outputs": []
    },
    {
      "cell_type": "code",
      "metadata": {
        "id": "nlRf8SOd01hu"
      },
      "source": [
        ""
      ],
      "execution_count": null,
      "outputs": []
    },
    {
      "cell_type": "code",
      "metadata": {
        "id": "NjwEzH4j01rh"
      },
      "source": [
        ""
      ],
      "execution_count": null,
      "outputs": []
    },
    {
      "cell_type": "markdown",
      "metadata": {
        "id": "gBmwzGa3rQO-"
      },
      "source": [
        "### **Visualize the data in your training set (EDA)**\n",
        "- Please only create 3 visualization explaining different insights in the data. So you have enough time to model. \n",
        "- You can only use one of each plot type, this means you cant make 3 bar plot, 3 Scatter Plots, etc.\n"
      ]
    },
    {
      "cell_type": "code",
      "metadata": {
        "id": "bYzhoUHcrTCB"
      },
      "source": [
        ""
      ],
      "execution_count": null,
      "outputs": []
    },
    {
      "cell_type": "code",
      "metadata": {
        "id": "F-H69RQZ07DT"
      },
      "source": [
        ""
      ],
      "execution_count": null,
      "outputs": []
    },
    {
      "cell_type": "code",
      "metadata": {
        "id": "eFoLeYIc07Iu"
      },
      "source": [
        ""
      ],
      "execution_count": null,
      "outputs": []
    },
    {
      "cell_type": "markdown",
      "metadata": {
        "id": "bxzjr4wIrU8D"
      },
      "source": [
        "### **Clean and Preprocess your Data** (Hint: One-Hot-Encode Categoricals)\r\n",
        "Another hint: https://pandas.pydata.org/pandas-docs/stable/reference/api/pandas.get_dummies.html"
      ]
    },
    {
      "cell_type": "code",
      "metadata": {
        "id": "QG_vbMaMrXyg"
      },
      "source": [
        ""
      ],
      "execution_count": null,
      "outputs": []
    },
    {
      "cell_type": "code",
      "metadata": {
        "id": "XHJBtiB_1Cua"
      },
      "source": [
        ""
      ],
      "execution_count": null,
      "outputs": []
    },
    {
      "cell_type": "code",
      "metadata": {
        "id": "gfcOCc261CyU"
      },
      "source": [
        ""
      ],
      "execution_count": null,
      "outputs": []
    },
    {
      "cell_type": "markdown",
      "metadata": {
        "id": "dfZriX0vre2W"
      },
      "source": [
        "### **Create a kNN model** \n",
        "\n"
      ]
    },
    {
      "cell_type": "code",
      "metadata": {
        "id": "kcSiOF2HrhcD"
      },
      "source": [
        ""
      ],
      "execution_count": null,
      "outputs": []
    },
    {
      "cell_type": "code",
      "metadata": {
        "id": "ySo8lcWY1QO0"
      },
      "source": [
        ""
      ],
      "execution_count": null,
      "outputs": []
    },
    {
      "cell_type": "code",
      "metadata": {
        "id": "L_cxxcpH1QTL"
      },
      "source": [
        ""
      ],
      "execution_count": null,
      "outputs": []
    },
    {
      "cell_type": "markdown",
      "metadata": {
        "id": "GDc2e_VLrigc"
      },
      "source": [
        "### **Show us your confusion matrix and explain the results**"
      ]
    },
    {
      "cell_type": "code",
      "metadata": {
        "id": "iWTkDkFWrl9i"
      },
      "source": [
        ""
      ],
      "execution_count": null,
      "outputs": []
    },
    {
      "cell_type": "code",
      "metadata": {
        "id": "Apt4iiLK1TWE"
      },
      "source": [
        ""
      ],
      "execution_count": null,
      "outputs": []
    },
    {
      "cell_type": "markdown",
      "metadata": {
        "id": "vU3d5Gf81Rub"
      },
      "source": [
        "your stuff here"
      ]
    },
    {
      "cell_type": "markdown",
      "metadata": {
        "id": "5vPXnjzYrnOy"
      },
      "source": [
        "### **Compare to Baseline model and explain the results**"
      ]
    },
    {
      "cell_type": "code",
      "metadata": {
        "id": "qHOEiug4rqnc"
      },
      "source": [
        ""
      ],
      "execution_count": null,
      "outputs": []
    },
    {
      "cell_type": "code",
      "metadata": {
        "id": "oOiplhS01UNK"
      },
      "source": [
        ""
      ],
      "execution_count": null,
      "outputs": []
    },
    {
      "cell_type": "markdown",
      "metadata": {
        "id": "nq_diEWA1Wo9"
      },
      "source": [
        "your stuff here"
      ]
    },
    {
      "cell_type": "markdown",
      "metadata": {
        "id": "74S0mFl8wKiu"
      },
      "source": [
        "### **BONUS ☝️**\n",
        "- Create a Logistic Regression Model\n",
        "- Compare results to kNN and Baseline and explain the results\n",
        "\n"
      ]
    },
    {
      "cell_type": "code",
      "metadata": {
        "id": "mycvPTFUwfxH"
      },
      "source": [
        ""
      ],
      "execution_count": null,
      "outputs": []
    },
    {
      "cell_type": "markdown",
      "metadata": {
        "id": "n55MPfYkwj-t"
      },
      "source": [
        "### **BONUS ✌️**\n",
        "- Use GridSearchCV with your Logistic Regression with `cv=10` passed into your grid"
      ]
    },
    {
      "cell_type": "code",
      "metadata": {
        "id": "ZXtOQFdowqQ_"
      },
      "source": [
        ""
      ],
      "execution_count": null,
      "outputs": []
    },
    {
      "cell_type": "code",
      "metadata": {
        "id": "ftAMm4DJ1ZwR"
      },
      "source": [
        ""
      ],
      "execution_count": null,
      "outputs": []
    },
    {
      "cell_type": "code",
      "metadata": {
        "id": "1i71KLj_1Z1o"
      },
      "source": [
        ""
      ],
      "execution_count": null,
      "outputs": []
    },
    {
      "cell_type": "code",
      "metadata": {
        "id": "y2pNcKVZ1Z8P"
      },
      "source": [
        ""
      ],
      "execution_count": null,
      "outputs": []
    }
  ]
}