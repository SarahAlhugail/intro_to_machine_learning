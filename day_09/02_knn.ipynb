{
  "nbformat": 4,
  "nbformat_minor": 0,
  "metadata": {
    "colab": {
      "name": "02_knn.ipynb",
      "provenance": [],
      "collapsed_sections": [],
      "authorship_tag": "ABX9TyNJlmY8F6qz/j+VwgKsyR04"
    },
    "kernelspec": {
      "name": "python3",
      "display_name": "Python 3"
    }
  },
  "cells": [
    {
      "cell_type": "markdown",
      "metadata": {
        "id": "mWnML8ttmBHT"
      },
      "source": [
        "# KNN\r\n",
        "\r\n",
        "![](https://miro.medium.com/max/3500/1*uEsLUQ7GdAd1bKIQKG3QCQ.jpeg)"
      ]
    },
    {
      "cell_type": "code",
      "metadata": {
        "colab": {
          "base_uri": "https://localhost:8080/",
          "height": 415
        },
        "id": "4sM_cioVl_zF",
        "outputId": "9416dcc9-b465-4dac-f5ce-d45231b629e1"
      },
      "source": [
        "import pandas as pd\r\n",
        "\r\n",
        "df = pd.read_csv('https://raw.githubusercontent.com/gumdropsteve/datasets/master/iris.csv')\r\n",
        "\r\n",
        "df"
      ],
      "execution_count": 1,
      "outputs": [
        {
          "output_type": "execute_result",
          "data": {
            "text/html": [
              "<div>\n",
              "<style scoped>\n",
              "    .dataframe tbody tr th:only-of-type {\n",
              "        vertical-align: middle;\n",
              "    }\n",
              "\n",
              "    .dataframe tbody tr th {\n",
              "        vertical-align: top;\n",
              "    }\n",
              "\n",
              "    .dataframe thead th {\n",
              "        text-align: right;\n",
              "    }\n",
              "</style>\n",
              "<table border=\"1\" class=\"dataframe\">\n",
              "  <thead>\n",
              "    <tr style=\"text-align: right;\">\n",
              "      <th></th>\n",
              "      <th>sepal_length</th>\n",
              "      <th>sepal_width</th>\n",
              "      <th>petal_length</th>\n",
              "      <th>petal_width</th>\n",
              "      <th>species</th>\n",
              "      <th>target</th>\n",
              "    </tr>\n",
              "  </thead>\n",
              "  <tbody>\n",
              "    <tr>\n",
              "      <th>0</th>\n",
              "      <td>5.1</td>\n",
              "      <td>3.5</td>\n",
              "      <td>1.4</td>\n",
              "      <td>0.2</td>\n",
              "      <td>setosa</td>\n",
              "      <td>0</td>\n",
              "    </tr>\n",
              "    <tr>\n",
              "      <th>1</th>\n",
              "      <td>4.9</td>\n",
              "      <td>3.0</td>\n",
              "      <td>1.4</td>\n",
              "      <td>0.2</td>\n",
              "      <td>setosa</td>\n",
              "      <td>0</td>\n",
              "    </tr>\n",
              "    <tr>\n",
              "      <th>2</th>\n",
              "      <td>4.7</td>\n",
              "      <td>3.2</td>\n",
              "      <td>1.3</td>\n",
              "      <td>0.2</td>\n",
              "      <td>setosa</td>\n",
              "      <td>0</td>\n",
              "    </tr>\n",
              "    <tr>\n",
              "      <th>3</th>\n",
              "      <td>4.6</td>\n",
              "      <td>3.1</td>\n",
              "      <td>1.5</td>\n",
              "      <td>0.2</td>\n",
              "      <td>setosa</td>\n",
              "      <td>0</td>\n",
              "    </tr>\n",
              "    <tr>\n",
              "      <th>4</th>\n",
              "      <td>5.0</td>\n",
              "      <td>3.6</td>\n",
              "      <td>1.4</td>\n",
              "      <td>0.2</td>\n",
              "      <td>setosa</td>\n",
              "      <td>0</td>\n",
              "    </tr>\n",
              "    <tr>\n",
              "      <th>...</th>\n",
              "      <td>...</td>\n",
              "      <td>...</td>\n",
              "      <td>...</td>\n",
              "      <td>...</td>\n",
              "      <td>...</td>\n",
              "      <td>...</td>\n",
              "    </tr>\n",
              "    <tr>\n",
              "      <th>145</th>\n",
              "      <td>6.7</td>\n",
              "      <td>3.0</td>\n",
              "      <td>5.2</td>\n",
              "      <td>2.3</td>\n",
              "      <td>virginica</td>\n",
              "      <td>2</td>\n",
              "    </tr>\n",
              "    <tr>\n",
              "      <th>146</th>\n",
              "      <td>6.3</td>\n",
              "      <td>2.5</td>\n",
              "      <td>5.0</td>\n",
              "      <td>1.9</td>\n",
              "      <td>virginica</td>\n",
              "      <td>2</td>\n",
              "    </tr>\n",
              "    <tr>\n",
              "      <th>147</th>\n",
              "      <td>6.5</td>\n",
              "      <td>3.0</td>\n",
              "      <td>5.2</td>\n",
              "      <td>2.0</td>\n",
              "      <td>virginica</td>\n",
              "      <td>2</td>\n",
              "    </tr>\n",
              "    <tr>\n",
              "      <th>148</th>\n",
              "      <td>6.2</td>\n",
              "      <td>3.4</td>\n",
              "      <td>5.4</td>\n",
              "      <td>2.3</td>\n",
              "      <td>virginica</td>\n",
              "      <td>2</td>\n",
              "    </tr>\n",
              "    <tr>\n",
              "      <th>149</th>\n",
              "      <td>5.9</td>\n",
              "      <td>3.0</td>\n",
              "      <td>5.1</td>\n",
              "      <td>1.8</td>\n",
              "      <td>virginica</td>\n",
              "      <td>2</td>\n",
              "    </tr>\n",
              "  </tbody>\n",
              "</table>\n",
              "<p>150 rows × 6 columns</p>\n",
              "</div>"
            ],
            "text/plain": [
              "     sepal_length  sepal_width  petal_length  petal_width    species  target\n",
              "0             5.1          3.5           1.4          0.2     setosa       0\n",
              "1             4.9          3.0           1.4          0.2     setosa       0\n",
              "2             4.7          3.2           1.3          0.2     setosa       0\n",
              "3             4.6          3.1           1.5          0.2     setosa       0\n",
              "4             5.0          3.6           1.4          0.2     setosa       0\n",
              "..            ...          ...           ...          ...        ...     ...\n",
              "145           6.7          3.0           5.2          2.3  virginica       2\n",
              "146           6.3          2.5           5.0          1.9  virginica       2\n",
              "147           6.5          3.0           5.2          2.0  virginica       2\n",
              "148           6.2          3.4           5.4          2.3  virginica       2\n",
              "149           5.9          3.0           5.1          1.8  virginica       2\n",
              "\n",
              "[150 rows x 6 columns]"
            ]
          },
          "metadata": {
            "tags": []
          },
          "execution_count": 1
        }
      ]
    },
    {
      "cell_type": "code",
      "metadata": {
        "colab": {
          "base_uri": "https://localhost:8080/",
          "height": 301
        },
        "id": "SFqnIm29oKd0",
        "outputId": "0c4516b5-b9f7-4227-f602-33bacf18710b"
      },
      "source": [
        "df.plot(kind='scatter', x='sepal_length', y='petal_width',\r\n",
        "        c='target', cmap=('rainbow'), sharex=False)"
      ],
      "execution_count": 2,
      "outputs": [
        {
          "output_type": "execute_result",
          "data": {
            "text/plain": [
              "<matplotlib.axes._subplots.AxesSubplot at 0x7fb41c4b2908>"
            ]
          },
          "metadata": {
            "tags": []
          },
          "execution_count": 2
        },
        {
          "output_type": "display_data",
          "data": {
            "image/png": "[encoded data removed]",
            "text/plain": [
              "<Figure size 432x288 with 2 Axes>"
            ]
          },
          "metadata": {
            "tags": [],
            "needs_background": "light"
          }
        }
      ]
    },
    {
      "cell_type": "markdown",
      "metadata": {
        "id": "jk3q6H2WojNa"
      },
      "source": [
        ""
      ]
    },
    {
      "cell_type": "code",
      "metadata": {
        "id": "I7bWjoXEoqn2"
      },
      "source": [
        "from sklearn.model_selection import train_test_split\r\n",
        "\r\n",
        "X = df.drop(['species', 'target'], axis=1)\r\n",
        "y = df.target\r\n",
        "\r\n",
        "X_train, X_test, y_train, y_test = train_test_split(X, y, train_size=147)"
      ],
      "execution_count": 3,
      "outputs": []
    },
    {
      "cell_type": "code",
      "metadata": {
        "colab": {
          "base_uri": "https://localhost:8080/",
          "height": 297
        },
        "id": "cU_TB7F2ojrx",
        "outputId": "db8c39a0-91b5-400f-c941-3785819d3e61"
      },
      "source": [
        "X_train.plot(kind='scatter', x='sepal_length', y='petal_width',\r\n",
        "             c=y_train.tolist(), cmap=('rainbow'), sharex=False)"
      ],
      "execution_count": 4,
      "outputs": [
        {
          "output_type": "execute_result",
          "data": {
            "text/plain": [
              "<matplotlib.axes._subplots.AxesSubplot at 0x7fb40c218358>"
            ]
          },
          "metadata": {
            "tags": []
          },
          "execution_count": 4
        },
        {
          "output_type": "display_data",
          "data": {
            "image/png": "[encoded data removed]",
            "text/plain": [
              "<Figure size 432x288 with 1 Axes>"
            ]
          },
          "metadata": {
            "tags": [],
            "needs_background": "light"
          }
        }
      ]
    },
    {
      "cell_type": "code",
      "metadata": {
        "colab": {
          "base_uri": "https://localhost:8080/",
          "height": 284
        },
        "id": "qb95hNavomty",
        "outputId": "345fa877-73fc-4d54-c709-5021696430d8"
      },
      "source": [
        "from matplotlib import pyplot as plt\r\n",
        "\r\n",
        "plt.xlabel('sepal_length'), plt.ylabel('petal_width')\r\n",
        "\r\n",
        "# scatter training dataset (rainbow) + colorbar\r\n",
        "plt.scatter(x=X_train['sepal_length'], y=X_train['petal_width'],\r\n",
        "            c=y_train, cmap='rainbow')\r\n",
        "plt.colorbar()\r\n",
        "\r\n",
        "# scatter testing dataset (black)\r\n",
        "plt.scatter(x=X_test['sepal_length'], y=X_test['petal_width'],\r\n",
        "            color='k')\r\n",
        "\r\n",
        "plt.show()"
      ],
      "execution_count": 5,
      "outputs": [
        {
          "output_type": "display_data",
          "data": {
            "image/png": "[encoded data removed]",
            "text/plain": [
              "<Figure size 432x288 with 2 Axes>"
            ]
          },
          "metadata": {
            "tags": [],
            "needs_background": "light"
          }
        }
      ]
    },
    {
      "cell_type": "markdown",
      "metadata": {
        "id": "wA_exME1qjws"
      },
      "source": [
        "#### KNN in Sklearn\r\n",
        "https://scikit-learn.org/stable/modules/generated/sklearn.neighbors.KNeighborsClassifier.html"
      ]
    },
    {
      "cell_type": "code",
      "metadata": {
        "id": "jVsmWfX9oYBN"
      },
      "source": [
        "from sklearn.neighbors import KNeighborsClassifier"
      ],
      "execution_count": 6,
      "outputs": []
    },
    {
      "cell_type": "code",
      "metadata": {
        "colab": {
          "base_uri": "https://localhost:8080/"
        },
        "id": "3Qa84edLq6n7",
        "outputId": "561c5b87-813c-4824-c02d-397fb98c3ec3"
      },
      "source": [
        "KNeighborsClassifier()"
      ],
      "execution_count": 7,
      "outputs": [
        {
          "output_type": "execute_result",
          "data": {
            "text/plain": [
              "KNeighborsClassifier(algorithm='auto', leaf_size=30, metric='minkowski',\n",
              "                     metric_params=None, n_jobs=None, n_neighbors=5, p=2,\n",
              "                     weights='uniform')"
            ]
          },
          "metadata": {
            "tags": []
          },
          "execution_count": 7
        }
      ]
    },
    {
      "cell_type": "code",
      "metadata": {
        "colab": {
          "base_uri": "https://localhost:8080/"
        },
        "id": "58ctMdZOq81z",
        "outputId": "acb07a57-910c-4dcf-9386-03c4e8237246"
      },
      "source": [
        "knn = KNeighborsClassifier(n_neighbors=3)\r\n",
        "\r\n",
        "knn.fit(X_train, y_train)"
      ],
      "execution_count": 8,
      "outputs": [
        {
          "output_type": "execute_result",
          "data": {
            "text/plain": [
              "KNeighborsClassifier(algorithm='auto', leaf_size=30, metric='minkowski',\n",
              "                     metric_params=None, n_jobs=None, n_neighbors=3, p=2,\n",
              "                     weights='uniform')"
            ]
          },
          "metadata": {
            "tags": []
          },
          "execution_count": 8
        }
      ]
    },
    {
      "cell_type": "code",
      "metadata": {
        "colab": {
          "base_uri": "https://localhost:8080/"
        },
        "id": "8hLdJZ6qrgSc",
        "outputId": "3446ff08-311e-4209-d4bd-527060330e94"
      },
      "source": [
        "knn.predict(X_test)"
      ],
      "execution_count": 9,
      "outputs": [
        {
          "output_type": "execute_result",
          "data": {
            "text/plain": [
              "array([0, 2, 1])"
            ]
          },
          "metadata": {
            "tags": []
          },
          "execution_count": 9
        }
      ]
    },
    {
      "cell_type": "code",
      "metadata": {
        "colab": {
          "base_uri": "https://localhost:8080/"
        },
        "id": "fSvj7IjSszyW",
        "outputId": "61c6ff76-93a6-4cf9-d69d-2ebf94f67cff"
      },
      "source": [
        "from sklearn.metrics import accuracy_score\r\n",
        "\r\n",
        "accuracy_score(y_test, knn.predict(X_test))"
      ],
      "execution_count": 19,
      "outputs": [
        {
          "output_type": "execute_result",
          "data": {
            "text/plain": [
              "1.0"
            ]
          },
          "metadata": {
            "tags": []
          },
          "execution_count": 19
        }
      ]
    },
    {
      "cell_type": "code",
      "metadata": {
        "colab": {
          "base_uri": "https://localhost:8080/"
        },
        "id": "11GUxIIUsAev",
        "outputId": "4034f066-9870-45e9-8538-61670cf329d5"
      },
      "source": [
        "from sklearn.metrics import confusion_matrix\r\n",
        "\r\n",
        "confusion_matrix(y_test, knn.predict(X_test))"
      ],
      "execution_count": 10,
      "outputs": [
        {
          "output_type": "execute_result",
          "data": {
            "text/plain": [
              "array([[1, 0, 0],\n",
              "       [0, 1, 0],\n",
              "       [0, 0, 1]])"
            ]
          },
          "metadata": {
            "tags": []
          },
          "execution_count": 10
        }
      ]
    },
    {
      "cell_type": "code",
      "metadata": {
        "colab": {
          "base_uri": "https://localhost:8080/",
          "height": 287
        },
        "id": "mgy6GXy-rihZ",
        "outputId": "6915d04b-9d32-4e48-efb9-6d5405e1a265"
      },
      "source": [
        "import seaborn as sns\r\n",
        "\r\n",
        "sns.heatmap(confusion_matrix(y_test, knn.predict(X_test)), annot=True)\r\n"
      ],
      "execution_count": 11,
      "outputs": [
        {
          "output_type": "execute_result",
          "data": {
            "text/plain": [
              "<matplotlib.axes._subplots.AxesSubplot at 0x7fb4099e22b0>"
            ]
          },
          "metadata": {
            "tags": []
          },
          "execution_count": 11
        },
        {
          "output_type": "display_data",
          "data": {
            "image/png": "[encoded data removed]",
            "text/plain": [
              "<Figure size 432x288 with 2 Axes>"
            ]
          },
          "metadata": {
            "tags": [],
            "needs_background": "light"
          }
        }
      ]
    },
    {
      "cell_type": "code",
      "metadata": {
        "colab": {
          "base_uri": "https://localhost:8080/",
          "height": 301
        },
        "id": "uyyc4QfYsQYl",
        "outputId": "75492039-9ed2-44bd-affe-1354688ca7dd"
      },
      "source": [
        "from sklearn.metrics import plot_confusion_matrix\r\n",
        "\r\n",
        "plot_confusion_matrix(knn, X=pd.DataFrame(X_test), y_true=y_test)"
      ],
      "execution_count": 17,
      "outputs": [
        {
          "output_type": "execute_result",
          "data": {
            "text/plain": [
              "<sklearn.metrics._plot.confusion_matrix.ConfusionMatrixDisplay at 0x7fb4008fba90>"
            ]
          },
          "metadata": {
            "tags": []
          },
          "execution_count": 17
        },
        {
          "output_type": "display_data",
          "data": {
            "image/png": "[encoded data removed]",
            "text/plain": [
              "<Figure size 432x288 with 2 Axes>"
            ]
          },
          "metadata": {
            "tags": [],
            "needs_background": "light"
          }
        }
      ]
    },
    {
      "cell_type": "code",
      "metadata": {
        "colab": {
          "base_uri": "https://localhost:8080/",
          "height": 301
        },
        "id": "pIRRWnoksnRJ",
        "outputId": "2dd51b56-cc1d-4888-c017-deabac92312a"
      },
      "source": [
        "from sklearn.metrics import plot_confusion_matrix\r\n",
        "\r\n",
        "plot_confusion_matrix(knn, X=pd.DataFrame(X_test), y_true=y_test, cmap='Blues')"
      ],
      "execution_count": 18,
      "outputs": [
        {
          "output_type": "execute_result",
          "data": {
            "text/plain": [
              "<sklearn.metrics._plot.confusion_matrix.ConfusionMatrixDisplay at 0x7fb4008447b8>"
            ]
          },
          "metadata": {
            "tags": []
          },
          "execution_count": 18
        },
        {
          "output_type": "display_data",
          "data": {
            "image/png": "[encoded data removed]",
            "text/plain": [
              "<Figure size 432x288 with 2 Axes>"
            ]
          },
          "metadata": {
            "tags": [],
            "needs_background": "light"
          }
        }
      ]
    },
    {
      "cell_type": "markdown",
      "metadata": {
        "id": "eZqvpgV4tUM5"
      },
      "source": [
        "Making it with a worse model..."
      ]
    },
    {
      "cell_type": "code",
      "metadata": {
        "colab": {
          "base_uri": "https://localhost:8080/",
          "height": 297
        },
        "id": "VlnXGDndtIMi",
        "outputId": "1f23f280-2b8e-4efd-cfde-6b933265ab46"
      },
      "source": [
        "from sklearn.model_selection import train_test_split\r\n",
        "\r\n",
        "X = df.drop(['species', 'target'], axis=1)\r\n",
        "y = df.target\r\n",
        "\r\n",
        "X_train, X_test, y_train, y_test = train_test_split(X, y, train_size=0.1)\r\n",
        "\r\n",
        "knn = KNeighborsClassifier(n_neighbors=3)\r\n",
        "\r\n",
        "knn.fit(X_train, y_train)\r\n",
        "\r\n",
        "plot_confusion_matrix(knn, X=pd.DataFrame(X_test), y_true=y_test, cmap='Blues')"
      ],
      "execution_count": 22,
      "outputs": [
        {
          "output_type": "execute_result",
          "data": {
            "text/plain": [
              "<sklearn.metrics._plot.confusion_matrix.ConfusionMatrixDisplay at 0x7fb400712080>"
            ]
          },
          "metadata": {
            "tags": []
          },
          "execution_count": 22
        },
        {
          "output_type": "display_data",
          "data": {
            "image/png": "[encoded data removed]",
            "text/plain": [
              "<Figure size 432x288 with 2 Axes>"
            ]
          },
          "metadata": {
            "tags": [],
            "needs_background": "light"
          }
        }
      ]
    },
    {
      "cell_type": "code",
      "metadata": {
        "colab": {
          "base_uri": "https://localhost:8080/",
          "height": 141
        },
        "id": "Lm3E1bdruGW1",
        "outputId": "b10734a2-a316-447d-fd02-24141a8a1515"
      },
      "source": [
        "df.sample(3)"
      ],
      "execution_count": 23,
      "outputs": [
        {
          "output_type": "execute_result",
          "data": {
            "text/html": [
              "<div>\n",
              "<style scoped>\n",
              "    .dataframe tbody tr th:only-of-type {\n",
              "        vertical-align: middle;\n",
              "    }\n",
              "\n",
              "    .dataframe tbody tr th {\n",
              "        vertical-align: top;\n",
              "    }\n",
              "\n",
              "    .dataframe thead th {\n",
              "        text-align: right;\n",
              "    }\n",
              "</style>\n",
              "<table border=\"1\" class=\"dataframe\">\n",
              "  <thead>\n",
              "    <tr style=\"text-align: right;\">\n",
              "      <th></th>\n",
              "      <th>sepal_length</th>\n",
              "      <th>sepal_width</th>\n",
              "      <th>petal_length</th>\n",
              "      <th>petal_width</th>\n",
              "      <th>species</th>\n",
              "      <th>target</th>\n",
              "    </tr>\n",
              "  </thead>\n",
              "  <tbody>\n",
              "    <tr>\n",
              "      <th>6</th>\n",
              "      <td>4.6</td>\n",
              "      <td>3.4</td>\n",
              "      <td>1.4</td>\n",
              "      <td>0.3</td>\n",
              "      <td>setosa</td>\n",
              "      <td>0</td>\n",
              "    </tr>\n",
              "    <tr>\n",
              "      <th>72</th>\n",
              "      <td>6.3</td>\n",
              "      <td>2.5</td>\n",
              "      <td>4.9</td>\n",
              "      <td>1.5</td>\n",
              "      <td>versicolor</td>\n",
              "      <td>1</td>\n",
              "    </tr>\n",
              "    <tr>\n",
              "      <th>18</th>\n",
              "      <td>5.7</td>\n",
              "      <td>3.8</td>\n",
              "      <td>1.7</td>\n",
              "      <td>0.3</td>\n",
              "      <td>setosa</td>\n",
              "      <td>0</td>\n",
              "    </tr>\n",
              "  </tbody>\n",
              "</table>\n",
              "</div>"
            ],
            "text/plain": [
              "    sepal_length  sepal_width  petal_length  petal_width     species  target\n",
              "6            4.6          3.4           1.4          0.3      setosa       0\n",
              "72           6.3          2.5           4.9          1.5  versicolor       1\n",
              "18           5.7          3.8           1.7          0.3      setosa       0"
            ]
          },
          "metadata": {
            "tags": []
          },
          "execution_count": 23
        }
      ]
    },
    {
      "cell_type": "code",
      "metadata": {
        "colab": {
          "base_uri": "https://localhost:8080/"
        },
        "id": "I0b44dgDuOkS",
        "outputId": "82d31bd9-83fe-4adb-a041-6d4b2b20d7a4"
      },
      "source": [
        "df.species.unique()"
      ],
      "execution_count": 24,
      "outputs": [
        {
          "output_type": "execute_result",
          "data": {
            "text/plain": [
              "array(['setosa', 'versicolor', 'virginica'], dtype=object)"
            ]
          },
          "metadata": {
            "tags": []
          },
          "execution_count": 24
        }
      ]
    },
    {
      "cell_type": "code",
      "metadata": {
        "colab": {
          "base_uri": "https://localhost:8080/",
          "height": 297
        },
        "id": "NeBimKrvuBTJ",
        "outputId": "82a701fc-28be-473d-cb1d-d5911a488997"
      },
      "source": [
        "from sklearn.model_selection import train_test_split\r\n",
        "\r\n",
        "X = df.drop(['species', 'target'], axis=1)\r\n",
        "y = df.target\r\n",
        "\r\n",
        "X_train, X_test, y_train, y_test = train_test_split(X, y, train_size=0.1)\r\n",
        "\r\n",
        "knn = KNeighborsClassifier(n_neighbors=3)\r\n",
        "\r\n",
        "knn.fit(X_train, y_train)\r\n",
        "\r\n",
        "plot_confusion_matrix(knn, X=pd.DataFrame(X_test), y_true=y_test, cmap='Blues',\r\n",
        "                      display_labels=['setosa', 'versicolor', 'virginica'])"
      ],
      "execution_count": 25,
      "outputs": [
        {
          "output_type": "execute_result",
          "data": {
            "text/plain": [
              "<sklearn.metrics._plot.confusion_matrix.ConfusionMatrixDisplay at 0x7fb400693b38>"
            ]
          },
          "metadata": {
            "tags": []
          },
          "execution_count": 25
        },
        {
          "output_type": "display_data",
          "data": {
            "image/png": "[encoded data removed]",
            "text/plain": [
              "<Figure size 432x288 with 2 Axes>"
            ]
          },
          "metadata": {
            "tags": [],
            "needs_background": "light"
          }
        }
      ]
    },
    {
      "cell_type": "markdown",
      "metadata": {
        "id": "D-8WTWp4v4hi"
      },
      "source": [
        "### KNN Regression\r\n",
        "https://scikit-learn.org/stable/modules/generated/sklearn.neighbors.KNeighborsRegressor.html"
      ]
    },
    {
      "cell_type": "code",
      "metadata": {
        "colab": {
          "base_uri": "https://localhost:8080/"
        },
        "id": "Kl93lwWkstT6",
        "outputId": "108cc2f6-b881-4b18-db24-342abc46153d"
      },
      "source": [
        "from sklearn.neighbors import KNeighborsRegressor\r\n",
        "\r\n",
        "KNeighborsRegressor()"
      ],
      "execution_count": 26,
      "outputs": [
        {
          "output_type": "execute_result",
          "data": {
            "text/plain": [
              "KNeighborsRegressor(algorithm='auto', leaf_size=30, metric='minkowski',\n",
              "                    metric_params=None, n_jobs=None, n_neighbors=5, p=2,\n",
              "                    weights='uniform')"
            ]
          },
          "metadata": {
            "tags": []
          },
          "execution_count": 26
        }
      ]
    },
    {
      "cell_type": "code",
      "metadata": {
        "colab": {
          "base_uri": "https://localhost:8080/"
        },
        "id": "4UGDA3KcwGfq",
        "outputId": "69eb7257-2654-42a4-b7ff-b270c084e95e"
      },
      "source": [
        "knn = KNeighborsRegressor()\r\n",
        "\r\n",
        "knn.fit(X_train, y_train)\r\n",
        "\r\n",
        "knn.predict(X_test)"
      ],
      "execution_count": 27,
      "outputs": [
        {
          "output_type": "execute_result",
          "data": {
            "text/plain": [
              "array([0. , 1.6, 1.6, 2. , 0. , 1.6, 1.6, 0. , 2. , 0. , 0. , 1.6, 1.6,\n",
              "       0. , 0. , 0. , 2. , 0. , 2. , 0. , 1.6, 1.6, 1.8, 2. , 2. , 0. ,\n",
              "       1.6, 1.6, 2. , 1.6, 0. , 0.8, 0.8, 0. , 1.6, 1.6, 2. , 0. , 1.6,\n",
              "       0. , 0. , 0. , 1.6, 1.8, 1.8, 1.6, 1.6, 0. , 1.6, 1.8, 0. , 1.6,\n",
              "       1.8, 0. , 1.6, 2. , 0. , 1.8, 0. , 0. , 1.8, 2. , 0. , 1.6, 2. ,\n",
              "       0.8, 1.6, 1.8, 1.6, 1.6, 2. , 0. , 0. , 0. , 0. , 0. , 1.6, 1.6,\n",
              "       2. , 2. , 2. , 1.6, 0. , 2. , 1.6, 1.6, 1.6, 0. , 2. , 0. , 2. ,\n",
              "       1.6, 0. , 1.6, 1.8, 1.6, 2. , 0. , 1.6, 1.6, 1.6, 1.8, 2. , 1.6,\n",
              "       2. , 0. , 1.6, 1.6, 2. , 1.6, 1.6, 1.6, 0. , 1.8, 1.6, 0. , 1.8,\n",
              "       2. , 1.8, 1.6, 0. , 2. , 0. , 2. , 1.6, 0. , 0. , 2. , 2. , 0. ,\n",
              "       0. , 0.2, 1.6, 1.6, 1.6])"
            ]
          },
          "metadata": {
            "tags": []
          },
          "execution_count": 27
        }
      ]
    },
    {
      "cell_type": "markdown",
      "metadata": {
        "id": "pvb87V7uwhHf"
      },
      "source": [
        "KNN for regression would be great for predicting the price per square foot of a house!"
      ]
    },
    {
      "cell_type": "markdown",
      "metadata": {
        "id": "RAmenGzewqgO"
      },
      "source": [
        "#### Even bigger confusion..."
      ]
    },
    {
      "cell_type": "code",
      "metadata": {
        "colab": {
          "base_uri": "https://localhost:8080/",
          "height": 130
        },
        "id": "FAyun8VQwNfj",
        "outputId": "d25ada5a-82e6-4bb6-e37d-fbe6aa1c7bfd"
      },
      "source": [
        "df = pd.read_csv('https://github.com/gumdropsteve/datasets/raw/master/blobs.csv')\r\n",
        "\r\n",
        "df.tail(2)"
      ],
      "execution_count": 28,
      "outputs": [
        {
          "output_type": "execute_result",
          "data": {
            "text/html": [
              "<div>\n",
              "<style scoped>\n",
              "    .dataframe tbody tr th:only-of-type {\n",
              "        vertical-align: middle;\n",
              "    }\n",
              "\n",
              "    .dataframe tbody tr th {\n",
              "        vertical-align: top;\n",
              "    }\n",
              "\n",
              "    .dataframe thead th {\n",
              "        text-align: right;\n",
              "    }\n",
              "</style>\n",
              "<table border=\"1\" class=\"dataframe\">\n",
              "  <thead>\n",
              "    <tr style=\"text-align: right;\">\n",
              "      <th></th>\n",
              "      <th>a</th>\n",
              "      <th>b</th>\n",
              "      <th>c</th>\n",
              "      <th>d</th>\n",
              "      <th>e</th>\n",
              "      <th>f</th>\n",
              "      <th>g</th>\n",
              "      <th>h</th>\n",
              "      <th>i</th>\n",
              "      <th>j</th>\n",
              "      <th>k</th>\n",
              "      <th>l</th>\n",
              "      <th>m</th>\n",
              "      <th>n</th>\n",
              "      <th>o</th>\n",
              "      <th>p</th>\n",
              "      <th>q</th>\n",
              "      <th>r</th>\n",
              "      <th>s</th>\n",
              "      <th>t</th>\n",
              "      <th>u</th>\n",
              "      <th>v</th>\n",
              "      <th>w</th>\n",
              "      <th>x</th>\n",
              "      <th>y</th>\n",
              "      <th>z</th>\n",
              "      <th>aa</th>\n",
              "      <th>bb</th>\n",
              "      <th>cc</th>\n",
              "      <th>dd</th>\n",
              "      <th>ee</th>\n",
              "      <th>ff</th>\n",
              "      <th>gg</th>\n",
              "      <th>hh</th>\n",
              "      <th>ii</th>\n",
              "      <th>jj</th>\n",
              "      <th>kk</th>\n",
              "      <th>ll</th>\n",
              "      <th>mm</th>\n",
              "      <th>nn</th>\n",
              "      <th>Y</th>\n",
              "    </tr>\n",
              "  </thead>\n",
              "  <tbody>\n",
              "    <tr>\n",
              "      <th>136070</th>\n",
              "      <td>0.236345</td>\n",
              "      <td>3.344960</td>\n",
              "      <td>3.459480</td>\n",
              "      <td>2.973486</td>\n",
              "      <td>-2.281698</td>\n",
              "      <td>2.975151</td>\n",
              "      <td>-2.240754</td>\n",
              "      <td>8.980216</td>\n",
              "      <td>11.347064</td>\n",
              "      <td>-1.916724</td>\n",
              "      <td>5.343498</td>\n",
              "      <td>1.449941</td>\n",
              "      <td>3.535627</td>\n",
              "      <td>8.170794</td>\n",
              "      <td>-7.429858</td>\n",
              "      <td>-7.868080</td>\n",
              "      <td>-9.857213</td>\n",
              "      <td>6.518719</td>\n",
              "      <td>5.919780</td>\n",
              "      <td>7.205406</td>\n",
              "      <td>8.463823</td>\n",
              "      <td>6.028425</td>\n",
              "      <td>-2.417157</td>\n",
              "      <td>4.511888</td>\n",
              "      <td>-8.092650</td>\n",
              "      <td>3.727818</td>\n",
              "      <td>-8.077375</td>\n",
              "      <td>11.141652</td>\n",
              "      <td>-1.456780</td>\n",
              "      <td>-2.800771</td>\n",
              "      <td>-6.242550</td>\n",
              "      <td>6.458926</td>\n",
              "      <td>-4.144237</td>\n",
              "      <td>1.965609</td>\n",
              "      <td>-10.047172</td>\n",
              "      <td>4.293735</td>\n",
              "      <td>2.588063</td>\n",
              "      <td>2.145761</td>\n",
              "      <td>9.725801</td>\n",
              "      <td>2.742198</td>\n",
              "      <td>0</td>\n",
              "    </tr>\n",
              "    <tr>\n",
              "      <th>136071</th>\n",
              "      <td>-0.783559</td>\n",
              "      <td>0.426375</td>\n",
              "      <td>3.436725</td>\n",
              "      <td>-9.776984</td>\n",
              "      <td>0.780760</td>\n",
              "      <td>4.009945</td>\n",
              "      <td>-7.040124</td>\n",
              "      <td>-8.266238</td>\n",
              "      <td>-3.962556</td>\n",
              "      <td>-2.910615</td>\n",
              "      <td>0.749933</td>\n",
              "      <td>-0.940078</td>\n",
              "      <td>10.129625</td>\n",
              "      <td>-7.263369</td>\n",
              "      <td>-7.472570</td>\n",
              "      <td>-7.952256</td>\n",
              "      <td>2.257320</td>\n",
              "      <td>-3.730488</td>\n",
              "      <td>-1.415887</td>\n",
              "      <td>-3.873543</td>\n",
              "      <td>-5.062332</td>\n",
              "      <td>-9.331533</td>\n",
              "      <td>3.590447</td>\n",
              "      <td>-8.612234</td>\n",
              "      <td>-5.876197</td>\n",
              "      <td>-2.898096</td>\n",
              "      <td>8.567013</td>\n",
              "      <td>-9.317573</td>\n",
              "      <td>6.403924</td>\n",
              "      <td>-7.794041</td>\n",
              "      <td>9.335192</td>\n",
              "      <td>-0.642014</td>\n",
              "      <td>10.503675</td>\n",
              "      <td>1.216733</td>\n",
              "      <td>4.125021</td>\n",
              "      <td>-8.030931</td>\n",
              "      <td>-7.090919</td>\n",
              "      <td>-7.016749</td>\n",
              "      <td>-5.277755</td>\n",
              "      <td>-6.627469</td>\n",
              "      <td>1</td>\n",
              "    </tr>\n",
              "  </tbody>\n",
              "</table>\n",
              "</div>"
            ],
            "text/plain": [
              "               a         b         c         d  ...        ll        mm        nn  Y\n",
              "136070  0.236345  3.344960  3.459480  2.973486  ...  2.145761  9.725801  2.742198  0\n",
              "136071 -0.783559  0.426375  3.436725 -9.776984  ... -7.016749 -5.277755 -6.627469  1\n",
              "\n",
              "[2 rows x 41 columns]"
            ]
          },
          "metadata": {
            "tags": []
          },
          "execution_count": 28
        }
      ]
    },
    {
      "cell_type": "code",
      "metadata": {
        "colab": {
          "base_uri": "https://localhost:8080/"
        },
        "id": "6BQatOf-xFWo",
        "outputId": "a1c417dc-09cb-4eed-a16b-47e87f8823ed"
      },
      "source": [
        "df.Y.value_counts()"
      ],
      "execution_count": 29,
      "outputs": [
        {
          "output_type": "execute_result",
          "data": {
            "text/plain": [
              "1    27215\n",
              "0    27215\n",
              "4    27214\n",
              "3    27214\n",
              "2    27214\n",
              "Name: Y, dtype: int64"
            ]
          },
          "metadata": {
            "tags": []
          },
          "execution_count": 29
        }
      ]
    },
    {
      "cell_type": "code",
      "metadata": {
        "id": "MKqIjZgixZFY"
      },
      "source": [
        "# sns.pairplot(df.sample(100))"
      ],
      "execution_count": 33,
      "outputs": []
    },
    {
      "cell_type": "code",
      "metadata": {
        "id": "3vkCyW49w5ll"
      },
      "source": [
        "X = df.drop('Y', axis=1)\r\n",
        "y = df.Y\r\n",
        "\r\n",
        "X_train, X_test, y_train, y_test = train_test_split(X, y, test_size=0.5)"
      ],
      "execution_count": 35,
      "outputs": []
    },
    {
      "cell_type": "code",
      "metadata": {
        "colab": {
          "base_uri": "https://localhost:8080/",
          "height": 297
        },
        "id": "xGeVGb-bxN2y",
        "outputId": "d2adc0fb-3238-4b48-e4c5-91ba04e33198"
      },
      "source": [
        "knn = KNeighborsClassifier()\r\n",
        "\r\n",
        "knn.fit(X_train, y_train)\r\n",
        "\r\n",
        "plot_confusion_matrix(knn, X_test, y_test, cmap='Blues')"
      ],
      "execution_count": 36,
      "outputs": [
        {
          "output_type": "execute_result",
          "data": {
            "text/plain": [
              "<sklearn.metrics._plot.confusion_matrix.ConfusionMatrixDisplay at 0x7fb3e8ccb4a8>"
            ]
          },
          "metadata": {
            "tags": []
          },
          "execution_count": 36
        },
        {
          "output_type": "display_data",
          "data": {
            "image/png": "[encoded data removed]",
            "text/plain": [
              "<Figure size 432x288 with 2 Axes>"
            ]
          },
          "metadata": {
            "tags": [],
            "needs_background": "light"
          }
        }
      ]
    },
    {
      "cell_type": "code",
      "metadata": {
        "colab": {
          "base_uri": "https://localhost:8080/",
          "height": 297
        },
        "id": "25pB_aqVx6T5",
        "outputId": "2eeaa2f7-a6e1-4023-a1e3-df292287ee93"
      },
      "source": [
        "knn = KNeighborsClassifier()\r\n",
        "\r\n",
        "knn.fit(X_train, y_train)\r\n",
        "\r\n",
        "plot_confusion_matrix(knn, X_test, y_test, cmap='Blues', values_format='')"
      ],
      "execution_count": 38,
      "outputs": [
        {
          "output_type": "execute_result",
          "data": {
            "text/plain": [
              "<sklearn.metrics._plot.confusion_matrix.ConfusionMatrixDisplay at 0x7fb3e8b34a58>"
            ]
          },
          "metadata": {
            "tags": []
          },
          "execution_count": 38
        },
        {
          "output_type": "display_data",
          "data": {
            "image/png": "[encoded data removed]",
            "text/plain": [
              "<Figure size 432x288 with 2 Axes>"
            ]
          },
          "metadata": {
            "tags": [],
            "needs_background": "light"
          }
        }
      ]
    },
    {
      "cell_type": "code",
      "metadata": {
        "id": "XJu5wOaQypVJ"
      },
      "source": [
        ""
      ],
      "execution_count": null,
      "outputs": []
    }
  ]
}