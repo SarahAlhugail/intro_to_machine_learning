{
  "nbformat": 4,
  "nbformat_minor": 0,
  "metadata": {
    "colab": {
      "name": "03_regression_weekend_project.ipynb",
      "provenance": [],
      "collapsed_sections": [],
      "authorship_tag": "ABX9TyPrTQ82D5mrCx0FWq5DeM3f"
    },
    "kernelspec": {
      "name": "python3",
      "display_name": "Python 3"
    }
  },
  "cells": [
    {
      "cell_type": "markdown",
      "metadata": {
        "id": "ok1Vc9a-KxzT"
      },
      "source": [
        "# Regressed Classification Weekend Project\r\n",
        "\r\n",
        "### **Challenge Options**\r\n",
        "\r\n",
        "#### Saudi Airbnb Price Prediction\r\n",
        "- Data: \r\n",
        "- Data Dictionary:\r\n",
        "- Type: regression\r\n",
        "- Starter code: []()\r\n",
        "- Target: `price`\r\n",
        "\r\n",
        "#### Income Bracket Prediction\r\n",
        "- Data: [archive.ics.uci.edu/ml/machine-learning-databases/adult/](https://archive.ics.uci.edu/ml/machine-learning-databases/adult/)\r\n",
        "- Data Dictionary: [archive.ics.uci.edu/ml/datasets/Adult](https://archive.ics.uci.edu/ml/datasets/Adult)\r\n",
        "- Type: classification\r\n",
        "- Starter code: [gist.github.com/gumdropsteve/25e40b0ab0b5a6a7d51f11c00f91d0bb](https://gist.github.com/gumdropsteve/25e40b0ab0b5a6a7d51f11c00f91d0bb)\r\n",
        "- Target: `target`\r\n",
        "\r\n",
        "#### Mushroom\r\n",
        "- Data: [archive.ics.uci.edu/ml/machine-learning-databases/mushroom/](https://archive.ics.uci.edu/ml/machine-learning-databases/mushroom/)\r\n",
        "- Data Dictionary: [archive.ics.uci.edu/ml/datasets/mushroom](https://archive.ics.uci.edu/ml/datasets/mushroom)\r\n",
        "- Type: classification\r\n",
        "- Starter code: [colab.research.google.com/drive/1hIoS2jZCpVOCE4U2mxqkeYPLh2m6I8rA?usp=sharing](https://colab.research.google.com/drive/1hIoS2jZCpVOCE4U2mxqkeYPLh2m6I8rA?usp=sharing)\r\n",
        "- Target: `target`\r\n",
        "\r\n",
        "### **Available Models**\r\n",
        "Pick from these models based on which challenge you take on (regression or classification). \r\n",
        "\r\n",
        "#### Regression\r\n",
        "- [LinearRegression](https://scikit-learn.org/stable/modules/generated/sklearn.linear_model.LinearRegression.html)\r\n",
        "- [SGDRegressor](https://scikit-learn.org/stable/modules/generated/sklearn.linear_model.SGDRegressor.html)\r\n",
        "- [KNeighborsRegressor](https://scikit-learn.org/stable/modules/generated/sklearn.neighbors.KNeighborsRegressor.html)\r\n",
        "\r\n",
        "#### Classification\r\n",
        "- [LogisticRegression](https://scikit-learn.org/stable/modules/generated/sklearn.linear_model.LogisticRegression.html)\r\n",
        "- [SGDClassifier](https://scikit-learn.org/stable/modules/generated/sklearn.linear_model.SGDClassifier.html)\r\n",
        "- [KNeighborsClassifier](https://scikit-learn.org/stable/modules/generated/sklearn.neighbors.KNeighborsClassifier.html)\r\n",
        "\r\n",
        "## **Deleverables**\r\n",
        "1. EDA\r\n",
        "   - What is this data?\r\n",
        "   - Visualize some relationships\r\n",
        "   - What do you see? What did you find?\r\n",
        "2. Data prep & `train_test_split()`\r\n",
        "    - Make this data ready for a ML model\r\n",
        "    - Decide which features to include\r\n",
        "    - Split into training and testing datasets\r\n",
        "3. Baseline model\r\n",
        "    - What is your baseline model?\r\n",
        "        - Explain what's going on please... Assume I'm an idiot \r\n",
        "4. Create a model\r\n",
        "    - Compare your results to the baseline\r\n",
        "5. Optimize your model\r\n",
        "    - [GridSearchCV](https://scikit-learn.org/stable/modules/generated/sklearn.model_selection.GridSearchCV.html)\r\n",
        "        - Bonus: [RandomizedSearchCV](https://scikit-learn.org/stable/modules/generated/sklearn.model_selection.RandomizedSearchCV.html)\r\n",
        "    - Compare your results to the baseline\r\n",
        "        - How did you do this? Why?\r\n",
        "    - If you don't beat the baseline, try improving your model or using a different model\r\n",
        "        - Were you able to beat the baseline? Why?"
      ]
    },
    {
      "cell_type": "code",
      "metadata": {
        "id": "jQlPnjbzKo_E"
      },
      "source": [
        ""
      ],
      "execution_count": null,
      "outputs": []
    },
    {
      "cell_type": "code",
      "metadata": {
        "id": "SkccsjARK0Z1"
      },
      "source": [
        ""
      ],
      "execution_count": null,
      "outputs": []
    }
  ]
}