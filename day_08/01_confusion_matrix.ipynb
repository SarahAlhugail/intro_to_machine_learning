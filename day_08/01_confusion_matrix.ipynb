{
  "nbformat": 4,
  "nbformat_minor": 0,
  "metadata": {
    "colab": {
      "name": "Untitled15.ipynb",
      "provenance": [],
      "authorship_tag": "ABX9TyPoXv1DX0Tbw/ONYXN1ipZA"
    },
    "kernelspec": {
      "name": "python3",
      "display_name": "Python 3"
    }
  },
  "cells": [
    {
      "cell_type": "markdown",
      "metadata": {
        "id": "xzXSnivV1z_T"
      },
      "source": [
        "# Confusion Matrix\r\n",
        "A confusion matrix is a table that is often used to describe the performance of a classification model (or \"classifier\") on a set of test data for which the true values are known (e.g. `y_test`). The confusion matrix itself is relatively simple to understand, but the related terminology can be confusing.\r\n",
        "\r\n",
        "![image.png](data:image/png;base64,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)\r\n",
        "\r\n",
        "#### Touch on ROC / AUC"
      ]
    },
    {
      "cell_type": "code",
      "metadata": {
        "colab": {
          "base_uri": "https://localhost:8080/",
          "height": 111
        },
        "id": "sxk7Xil65Aqu",
        "outputId": "7014fb41-ceb6-4241-a284-baf4181b2c6a"
      },
      "source": [
        "import pandas as pd\r\n",
        "\r\n",
        "df = pd.read_csv('https://raw.githubusercontent.com/gumdropsteve/datasets/master/dog_or_horse.csv')\r\n",
        "\r\n",
        "df.tail(2)"
      ],
      "execution_count": 1,
      "outputs": [
        {
          "output_type": "execute_result",
          "data": {
            "text/html": [
              "<div>\n",
              "<style scoped>\n",
              "    .dataframe tbody tr th:only-of-type {\n",
              "        vertical-align: middle;\n",
              "    }\n",
              "\n",
              "    .dataframe tbody tr th {\n",
              "        vertical-align: top;\n",
              "    }\n",
              "\n",
              "    .dataframe thead th {\n",
              "        text-align: right;\n",
              "    }\n",
              "</style>\n",
              "<table border=\"1\" class=\"dataframe\">\n",
              "  <thead>\n",
              "    <tr style=\"text-align: right;\">\n",
              "      <th></th>\n",
              "      <th>height</th>\n",
              "      <th>weight</th>\n",
              "      <th>target</th>\n",
              "      <th>type</th>\n",
              "    </tr>\n",
              "  </thead>\n",
              "  <tbody>\n",
              "    <tr>\n",
              "      <th>198</th>\n",
              "      <td>56.0</td>\n",
              "      <td>89.0</td>\n",
              "      <td>1.0</td>\n",
              "      <td>horse</td>\n",
              "    </tr>\n",
              "    <tr>\n",
              "      <th>199</th>\n",
              "      <td>58.0</td>\n",
              "      <td>98.0</td>\n",
              "      <td>1.0</td>\n",
              "      <td>horse</td>\n",
              "    </tr>\n",
              "  </tbody>\n",
              "</table>\n",
              "</div>"
            ],
            "text/plain": [
              "     height  weight  target   type\n",
              "198    56.0    89.0     1.0  horse\n",
              "199    58.0    98.0     1.0  horse"
            ]
          },
          "metadata": {
            "tags": []
          },
          "execution_count": 1
        }
      ]
    },
    {
      "cell_type": "code",
      "metadata": {
        "id": "LskPRQFj5H3l"
      },
      "source": [
        "from sklearn.model_selection import train_test_split\r\n",
        "\r\n",
        "X = df[['height', 'weight']]\r\n",
        "y = df.target\r\n",
        "\r\n",
        "X_train, X_test, y_train, y_test = train_test_split(X, y, test_size=0.3)"
      ],
      "execution_count": 2,
      "outputs": []
    },
    {
      "cell_type": "code",
      "metadata": {
        "colab": {
          "base_uri": "https://localhost:8080/",
          "height": 80
        },
        "id": "Km22J0Pk5oql",
        "outputId": "630bbe67-b081-4af4-a9b3-f3e8248a070e"
      },
      "source": [
        "X_train.tail(1)"
      ],
      "execution_count": 4,
      "outputs": [
        {
          "output_type": "execute_result",
          "data": {
            "text/html": [
              "<div>\n",
              "<style scoped>\n",
              "    .dataframe tbody tr th:only-of-type {\n",
              "        vertical-align: middle;\n",
              "    }\n",
              "\n",
              "    .dataframe tbody tr th {\n",
              "        vertical-align: top;\n",
              "    }\n",
              "\n",
              "    .dataframe thead th {\n",
              "        text-align: right;\n",
              "    }\n",
              "</style>\n",
              "<table border=\"1\" class=\"dataframe\">\n",
              "  <thead>\n",
              "    <tr style=\"text-align: right;\">\n",
              "      <th></th>\n",
              "      <th>height</th>\n",
              "      <th>weight</th>\n",
              "    </tr>\n",
              "  </thead>\n",
              "  <tbody>\n",
              "    <tr>\n",
              "      <th>103</th>\n",
              "      <td>56.0</td>\n",
              "      <td>111.0</td>\n",
              "    </tr>\n",
              "  </tbody>\n",
              "</table>\n",
              "</div>"
            ],
            "text/plain": [
              "     height  weight\n",
              "103    56.0   111.0"
            ]
          },
          "metadata": {
            "tags": []
          },
          "execution_count": 4
        }
      ]
    },
    {
      "cell_type": "code",
      "metadata": {
        "colab": {
          "base_uri": "https://localhost:8080/"
        },
        "id": "okI31URn5zAR",
        "outputId": "5167a548-5f47-476a-890a-5b462f0b2515"
      },
      "source": [
        "y_test.tail(1)"
      ],
      "execution_count": 5,
      "outputs": [
        {
          "output_type": "execute_result",
          "data": {
            "text/plain": [
              "99    0.0\n",
              "Name: target, dtype: float64"
            ]
          },
          "metadata": {
            "tags": []
          },
          "execution_count": 5
        }
      ]
    },
    {
      "cell_type": "code",
      "metadata": {
        "colab": {
          "base_uri": "https://localhost:8080/"
        },
        "id": "Np7qNDK14tXJ",
        "outputId": "af1f0c47-fe8f-4268-fb5e-ac021b78e0da"
      },
      "source": [
        "from sklearn.linear_model import LogisticRegression\r\n",
        "\r\n",
        "lr = LogisticRegression()\r\n",
        "\r\n",
        "lr.fit(X_train, y_train)"
      ],
      "execution_count": 6,
      "outputs": [
        {
          "output_type": "execute_result",
          "data": {
            "text/plain": [
              "LogisticRegression(C=1.0, class_weight=None, dual=False, fit_intercept=True,\n",
              "                   intercept_scaling=1, l1_ratio=None, max_iter=100,\n",
              "                   multi_class='auto', n_jobs=None, penalty='l2',\n",
              "                   random_state=None, solver='lbfgs', tol=0.0001, verbose=0,\n",
              "                   warm_start=False)"
            ]
          },
          "metadata": {
            "tags": []
          },
          "execution_count": 6
        }
      ]
    },
    {
      "cell_type": "code",
      "metadata": {
        "colab": {
          "base_uri": "https://localhost:8080/"
        },
        "id": "OuK0yAK14lla",
        "outputId": "1e32e48c-9d21-4dc9-aaf2-04ec056b9075"
      },
      "source": [
        "from sklearn.metrics import confusion_matrix\r\n",
        "\r\n",
        "# make predictions\r\n",
        "preds = lr.predict(X_test)\r\n",
        "\r\n",
        "# make confusion matrix\r\n",
        "confusion_matrix(y_test, preds)"
      ],
      "execution_count": 7,
      "outputs": [
        {
          "output_type": "execute_result",
          "data": {
            "text/plain": [
              "array([[30,  4],\n",
              "       [ 0, 26]])"
            ]
          },
          "metadata": {
            "tags": []
          },
          "execution_count": 7
        }
      ]
    },
    {
      "cell_type": "markdown",
      "metadata": {
        "id": "AtJQEhuQ66I1"
      },
      "source": [
        "- TP = predicted horse, is horse\r\n",
        "- FP = predicted horse, is dog\r\n",
        "- TN = predicted dog, is dog\r\n",
        "- FN = predicted dog, is horse"
      ]
    },
    {
      "cell_type": "code",
      "metadata": {
        "colab": {
          "base_uri": "https://localhost:8080/"
        },
        "id": "Y4ZqN0iG6kh3",
        "outputId": "ada60687-36ee-4522-c726-3eb8e4cd55bb"
      },
      "source": [
        "from sklearn.metrics import accuracy_score\r\n",
        "\r\n",
        "accuracy_score(y_test, preds)  # doesn't tell us as much"
      ],
      "execution_count": 9,
      "outputs": [
        {
          "output_type": "execute_result",
          "data": {
            "text/plain": [
              "0.9333333333333333"
            ]
          },
          "metadata": {
            "tags": []
          },
          "execution_count": 9
        }
      ]
    },
    {
      "cell_type": "markdown",
      "metadata": {
        "id": "SyWME81f7dM_"
      },
      "source": [
        "#### Visualize the Confusion Matrix"
      ]
    },
    {
      "cell_type": "code",
      "metadata": {
        "colab": {
          "base_uri": "https://localhost:8080/",
          "height": 286
        },
        "id": "2XkVU_Zb1zFh",
        "outputId": "780a6090-e91d-4605-8b3e-b4a024f273ea"
      },
      "source": [
        "import seaborn as sns\r\n",
        "from sklearn.metrics import confusion_matrix\r\n",
        "\r\n",
        "preds = lr.predict(X_test)\r\n",
        "\r\n",
        "sns.heatmap(confusion_matrix(y_test, preds))"
      ],
      "execution_count": 15,
      "outputs": [
        {
          "output_type": "execute_result",
          "data": {
            "text/plain": [
              "<matplotlib.axes._subplots.AxesSubplot at 0x7f0f258f8668>"
            ]
          },
          "metadata": {
            "tags": []
          },
          "execution_count": 15
        },
        {
          "output_type": "display_data",
          "data": {
            "image/png": "[encoded data removed]",
            "text/plain": [
              "<Figure size 432x288 with 2 Axes>"
            ]
          },
          "metadata": {
            "tags": [],
            "needs_background": "light"
          }
        }
      ]
    },
    {
      "cell_type": "code",
      "metadata": {
        "colab": {
          "base_uri": "https://localhost:8080/",
          "height": 286
        },
        "id": "xvdr32KR1wcJ",
        "outputId": "58e21357-fe8c-4bdf-9e34-ed227e473420"
      },
      "source": [
        "sns.heatmap(confusion_matrix(y_test, preds), annot=True)"
      ],
      "execution_count": 16,
      "outputs": [
        {
          "output_type": "execute_result",
          "data": {
            "text/plain": [
              "<matplotlib.axes._subplots.AxesSubplot at 0x7f0f25817ef0>"
            ]
          },
          "metadata": {
            "tags": []
          },
          "execution_count": 16
        },
        {
          "output_type": "display_data",
          "data": {
            "image/png": "[encoded data removed]",
            "text/plain": [
              "<Figure size 432x288 with 2 Axes>"
            ]
          },
          "metadata": {
            "tags": [],
            "needs_background": "light"
          }
        }
      ]
    },
    {
      "cell_type": "markdown",
      "metadata": {
        "id": "IOlwdJ6H-ljA"
      },
      "source": [
        "Reference: https://github.com/faro7ah/LogesticRegression_ML/blob/main/weekend_project_ML1_case_study_setup.ipynb"
      ]
    },
    {
      "cell_type": "code",
      "metadata": {
        "colab": {
          "base_uri": "https://localhost:8080/",
          "height": 291
        },
        "id": "XMzCEA6C8R7B",
        "outputId": "de233cf6-c284-402f-e048-8195573baddf"
      },
      "source": [
        "import numpy as np\r\n",
        "import matplotlib.pyplot as plt\r\n",
        "\r\n",
        "preds = lr.predict(X_test)\r\n",
        "cf = confusion_matrix(y_test, preds)\r\n",
        "\r\n",
        "names =  ['TN', 'FP', 'FN','TP']\r\n",
        "# make %s seen in graph\r\n",
        "perc = [\"{0:.2%}\".format(value) for value in\r\n",
        "                     cf.flatten()/np.sum(cf)]\r\n",
        "# make strings from bundle of names & perc\r\n",
        "labels = [f\"{v1}\\n{v2}\" for v1, v2 in\r\n",
        "          zip(names, perc)]\r\n",
        "labels = np.asarray(labels).reshape(2, 2)\r\n",
        "\r\n",
        "# make plot\r\n",
        "plt.figure(figsize=(7, 4))  # set up white canvis\r\n",
        "plt.rcParams.update({'font.size': 16})  # font size\r\n",
        "sns.heatmap(cf, annot=labels, fmt='').set_title(\"Confusion Matrix\");  # make it happen"
      ],
      "execution_count": 42,
      "outputs": [
        {
          "output_type": "display_data",
          "data": {
            "image/png": "[encoded data removed]",
            "text/plain": [
              "<Figure size 504x288 with 2 Axes>"
            ]
          },
          "metadata": {
            "tags": [],
            "needs_background": "light"
          }
        }
      ]
    },
    {
      "cell_type": "markdown",
      "metadata": {
        "id": "ua0id0n_-2s3"
      },
      "source": [
        "## another way...\r\n",
        "Docs: https://scikit-learn.org/stable/modules/generated/sklearn.metrics.plot_confusion_matrix.html\r\n",
        "\r\n",
        "Source: https://github.com/scikit-learn/scikit-learn/blob/b3ea3ed6a/sklearn/metrics/_plot/confusion_matrix.py#L165"
      ]
    },
    {
      "cell_type": "code",
      "metadata": {
        "colab": {
          "base_uri": "https://localhost:8080/",
          "height": 312
        },
        "id": "xAf-AOFk886E",
        "outputId": "ff4c1d7f-37e0-4e26-ec8e-74a7f9dbcb5a"
      },
      "source": [
        "from sklearn.metrics import plot_confusion_matrix\r\n",
        "\r\n",
        "lr = LogisticRegression()\r\n",
        "\r\n",
        "lr.fit(X_train, y_train)\r\n",
        "\r\n",
        "plot_confusion_matrix(lr, X=X_test, y_true=y_test)"
      ],
      "execution_count": 28,
      "outputs": [
        {
          "output_type": "execute_result",
          "data": {
            "text/plain": [
              "<sklearn.metrics._plot.confusion_matrix.ConfusionMatrixDisplay at 0x7f0f252dcc18>"
            ]
          },
          "metadata": {
            "tags": []
          },
          "execution_count": 28
        },
        {
          "output_type": "display_data",
          "data": {
            "image/png": "[encoded data removed]",
            "text/plain": [
              "<Figure size 432x288 with 2 Axes>"
            ]
          },
          "metadata": {
            "tags": [],
            "needs_background": "light"
          }
        }
      ]
    },
    {
      "cell_type": "code",
      "metadata": {
        "colab": {
          "base_uri": "https://localhost:8080/",
          "height": 312
        },
        "id": "XvXBApcVBAlO",
        "outputId": "3acab06e-8cf6-48e9-e7ed-7558e142134f"
      },
      "source": [
        "# be careful with colors\r\n",
        "plot_confusion_matrix(lr, X=X_test, y_true=y_test, cmap='prism')"
      ],
      "execution_count": 29,
      "outputs": [
        {
          "output_type": "execute_result",
          "data": {
            "text/plain": [
              "<sklearn.metrics._plot.confusion_matrix.ConfusionMatrixDisplay at 0x7f0f259d82b0>"
            ]
          },
          "metadata": {
            "tags": []
          },
          "execution_count": 29
        },
        {
          "output_type": "display_data",
          "data": {
            "image/png": "[encoded data removed]",
            "text/plain": [
              "<Figure size 432x288 with 2 Axes>"
            ]
          },
          "metadata": {
            "tags": [],
            "needs_background": "light"
          }
        }
      ]
    },
    {
      "cell_type": "code",
      "metadata": {
        "colab": {
          "base_uri": "https://localhost:8080/",
          "height": 312
        },
        "id": "05J1ayeNAN_p",
        "outputId": "8b57457e-de55-4dc0-d6d6-e1bc57fdf741"
      },
      "source": [
        "plot_confusion_matrix(lr, X=X_test, y_true=y_test, cmap='gist_earth')"
      ],
      "execution_count": 38,
      "outputs": [
        {
          "output_type": "execute_result",
          "data": {
            "text/plain": [
              "<sklearn.metrics._plot.confusion_matrix.ConfusionMatrixDisplay at 0x7f0f256ae198>"
            ]
          },
          "metadata": {
            "tags": []
          },
          "execution_count": 38
        },
        {
          "output_type": "display_data",
          "data": {
            "image/png": "[encoded data removed]",
            "text/plain": [
              "<Figure size 432x288 with 2 Axes>"
            ]
          },
          "metadata": {
            "tags": [],
            "needs_background": "light"
          }
        }
      ]
    },
    {
      "cell_type": "code",
      "metadata": {
        "colab": {
          "base_uri": "https://localhost:8080/",
          "height": 312
        },
        "id": "_y2sFHgrCJtf",
        "outputId": "c86174ba-2d8d-4aa2-b89f-87f79de367b7"
      },
      "source": [
        "plot_confusion_matrix(lr, X=X_test, y_true=y_test, cmap='gist_earth_r')"
      ],
      "execution_count": 39,
      "outputs": [
        {
          "output_type": "execute_result",
          "data": {
            "text/plain": [
              "<sklearn.metrics._plot.confusion_matrix.ConfusionMatrixDisplay at 0x7f0f254c2be0>"
            ]
          },
          "metadata": {
            "tags": []
          },
          "execution_count": 39
        },
        {
          "output_type": "display_data",
          "data": {
            "image/png": "[encoded data removed]",
            "text/plain": [
              "<Figure size 432x288 with 2 Axes>"
            ]
          },
          "metadata": {
            "tags": [],
            "needs_background": "light"
          }
        }
      ]
    },
    {
      "cell_type": "code",
      "metadata": {
        "colab": {
          "base_uri": "https://localhost:8080/",
          "height": 312
        },
        "id": "24RQi0UaBbPZ",
        "outputId": "53bc2423-9fd7-41f9-c1de-78b0c1ae5059"
      },
      "source": [
        "plot_confusion_matrix(lr, X=X_test, y_true=y_test, cmap='Blues')"
      ],
      "execution_count": 33,
      "outputs": [
        {
          "output_type": "execute_result",
          "data": {
            "text/plain": [
              "<sklearn.metrics._plot.confusion_matrix.ConfusionMatrixDisplay at 0x7f0f253b35f8>"
            ]
          },
          "metadata": {
            "tags": []
          },
          "execution_count": 33
        },
        {
          "output_type": "display_data",
          "data": {
            "image/png": "[encoded data removed]",
            "text/plain": [
              "<Figure size 432x288 with 2 Axes>"
            ]
          },
          "metadata": {
            "tags": [],
            "needs_background": "light"
          }
        }
      ]
    },
    {
      "cell_type": "code",
      "metadata": {
        "colab": {
          "base_uri": "https://localhost:8080/",
          "height": 312
        },
        "id": "4EI7_E3lBUGA",
        "outputId": "9fdfdf37-17d5-4e49-80b3-40bdadf7bfd1"
      },
      "source": [
        "plot_confusion_matrix(lr, X=X_test, y_true=y_test, cmap='Reds')"
      ],
      "execution_count": 34,
      "outputs": [
        {
          "output_type": "execute_result",
          "data": {
            "text/plain": [
              "<sklearn.metrics._plot.confusion_matrix.ConfusionMatrixDisplay at 0x7f0f252ce320>"
            ]
          },
          "metadata": {
            "tags": []
          },
          "execution_count": 34
        },
        {
          "output_type": "display_data",
          "data": {
            "image/png": "[encoded data removed]",
            "text/plain": [
              "<Figure size 432x288 with 2 Axes>"
            ]
          },
          "metadata": {
            "tags": [],
            "needs_background": "light"
          }
        }
      ]
    },
    {
      "cell_type": "code",
      "metadata": {
        "colab": {
          "base_uri": "https://localhost:8080/",
          "height": 312
        },
        "id": "0GmQGzUQBxe2",
        "outputId": "f53070e3-942e-4f0a-d929-3b992c4e3b5e"
      },
      "source": [
        "# Blues probably better than Blues_r\r\n",
        "plot_confusion_matrix(lr, X=X_test, y_true=y_test, cmap='Blues_r')"
      ],
      "execution_count": 36,
      "outputs": [
        {
          "output_type": "execute_result",
          "data": {
            "text/plain": [
              "<sklearn.metrics._plot.confusion_matrix.ConfusionMatrixDisplay at 0x7f0f256ae748>"
            ]
          },
          "metadata": {
            "tags": []
          },
          "execution_count": 36
        },
        {
          "output_type": "display_data",
          "data": {
            "image/png": "[encoded data removed]",
            "text/plain": [
              "<Figure size 432x288 with 2 Axes>"
            ]
          },
          "metadata": {
            "tags": [],
            "needs_background": "light"
          }
        }
      ]
    },
    {
      "cell_type": "code",
      "metadata": {
        "id": "_Ue2ZmLEB_Sr"
      },
      "source": [
        ""
      ],
      "execution_count": null,
      "outputs": []
    }
  ]
}
